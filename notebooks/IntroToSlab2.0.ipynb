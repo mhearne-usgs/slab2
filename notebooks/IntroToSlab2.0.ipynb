{
 "metadata": {
  "name": "",
  "signature": "sha256:06c6f2ea96ba1691d90f0d62fc8addd41a86a9b9ed531d81c33ae6c15313859d"
 },
 "nbformat": 3,
 "nbformat_minor": 0,
 "worksheets": [
  {
   "cells": [
    {
     "cell_type": "markdown",
     "metadata": {},
     "source": [
      "This notebook is a basic introduction to the functions available in the slab2.0 library.  To run this notebook you will need to install libcomcat as well as this package:\n",
      "\n",
      "pip install git+git://github.com/usgs/libcomcat.git"
     ]
    },
    {
     "cell_type": "code",
     "collapsed": false,
     "input": [
      "%matplotlib inline"
     ],
     "language": "python",
     "metadata": {},
     "outputs": [],
     "prompt_number": 1
    },
    {
     "cell_type": "code",
     "collapsed": false,
     "input": [],
     "language": "python",
     "metadata": {},
     "outputs": []
    }
   ],
   "metadata": {}
  }
 ]
}