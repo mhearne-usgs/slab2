{
 "metadata": {
  "name": "",
  "signature": "sha256:fc56e542774ffd9752919a10a6f32bafdecf1ab7d7ac69c18d612003d934732c"
 },
 "nbformat": 3,
 "nbformat_minor": 0,
 "worksheets": [
  {
   "cells": [
    {
     "cell_type": "markdown",
     "metadata": {},
     "source": [
      "This notebook is a basic introduction to the functions available in the slab2.0 library.  To run this notebook you will need to install libcomcat as well as this package:\n",
      "\n",
      "*pip install git+git://github.com/usgs/libcomcat.git*"
     ]
    },
    {
     "cell_type": "markdown",
     "metadata": {},
     "source": [
      "The cell below indicates to IPython that all plots should be rendered *inline* - that is, not in a separate window"
     ]
    },
    {
     "cell_type": "code",
     "collapsed": false,
     "input": [
      "%matplotlib inline"
     ],
     "language": "python",
     "metadata": {},
     "outputs": [],
     "prompt_number": 1
    },
    {
     "cell_type": "code",
     "collapsed": false,
     "input": [
      "#stdlib imports\n",
      "from datetime import datetime\n",
      "\n",
      "#usgs imports\n",
      "from slab2.slabutils import getEventsInCircle\n",
      "from libcomcat.comcat import getEventData,getTimeSegments\n",
      "\n",
      "#third party imports\n",
      "import numpy as np\n",
      "import matplotlib.pyplot as plt\n",
      "from IPython.display import Image"
     ],
     "language": "python",
     "metadata": {},
     "outputs": [],
     "prompt_number": 42
    },
    {
     "cell_type": "markdown",
     "metadata": {},
     "source": [
      "Create a grid coarsely replicating the Izu-Bonin slab grid:\n",
      "http://earthquake.usgs.gov/data/slab/images/izu_slab1.jpg"
     ]
    },
    {
     "cell_type": "code",
     "collapsed": false,
     "input": [
      "Image(url='http://earthquake.usgs.gov/data/slab/images/izu_slab1.jpg')"
     ],
     "language": "python",
     "metadata": {},
     "outputs": [
      {
       "html": [
        "<img src=\"http://earthquake.usgs.gov/data/slab/images/izu_slab1.jpg\"/>"
       ],
       "metadata": {},
       "output_type": "pyout",
       "prompt_number": 44,
       "text": [
        "<IPython.core.display.Image at 0x106cca710>"
       ]
      }
     ],
     "prompt_number": 44
    },
    {
     "cell_type": "markdown",
     "metadata": {},
     "source": [
      "Create arrays of lat/lon values to define our depth grid"
     ]
    },
    {
     "cell_type": "code",
     "collapsed": false,
     "input": [
      "lons = np.arange(135.0,150.0,0.5)\n",
      "lats = np.arange(10.0,37.0,0.5)\n",
      "bounds = (lons.min(),lons.max(),lats.min(),lats.max())"
     ],
     "language": "python",
     "metadata": {},
     "outputs": [],
     "prompt_number": 47
    },
    {
     "cell_type": "markdown",
     "metadata": {},
     "source": [
      "Search ComCat for recent events inside the rectangle defined by the arrays above."
     ]
    },
    {
     "cell_type": "code",
     "collapsed": false,
     "input": [
      "starttime = datetime(2000,1,1)\n",
      "endtime = datetime.utcnow()\n",
      "eventlist = getEventData(bounds = bounds,starttime = starttime,endtime = endtime)\n",
      "print '%i events inside Izu-Bonin slab region.' % len(eventlist)"
     ],
     "language": "python",
     "metadata": {},
     "outputs": [
      {
       "output_type": "stream",
       "stream": "stdout",
       "text": [
        "14884 events inside Izu-Bonin slab region.\n"
       ]
      }
     ],
     "prompt_number": 48
    },
    {
     "cell_type": "markdown",
     "metadata": {},
     "source": [
      "Create a depth grid, fill it with NaN values."
     ]
    },
    {
     "cell_type": "code",
     "collapsed": false,
     "input": [
      "nrows = len(lats)\n",
      "ncols = len(lons)\n",
      "depths = np.ones((nrows,ncols))*np.NaN\n",
      "print nrows,ncols"
     ],
     "language": "python",
     "metadata": {},
     "outputs": [
      {
       "output_type": "stream",
       "stream": "stdout",
       "text": [
        "54 30\n"
       ]
      }
     ],
     "prompt_number": 49
    },
    {
     "cell_type": "code",
     "collapsed": false,
     "input": [
      "tstart = datetime.now()\n",
      "radius = 100\n",
      "for i in range(0,len(lats)):\n",
      "    for j in range(0,len(lons)):\n",
      "        elat = lats[i]\n",
      "        elon = lons[j]\n",
      "        elist = getEventsInCircle(elat,elon,radius,eventlist)\n",
      "        alldepths = np.array([e['depth'] for e in elist])\n",
      "        depmean = np.nanmean(alldepths)\n",
      "        depths[i,j] = np.nanmean(alldepths)\n",
      "tend = datetime.now()\n",
      "print 'Creating mean depth grid for %i cells took %.1f seconds' % (nrows*ncols,(tend-tstart).seconds)"
     ],
     "language": "python",
     "metadata": {},
     "outputs": [
      {
       "output_type": "stream",
       "stream": "stdout",
       "text": [
        "Creating mean depth grid for 1620 cells took 40.0 seconds\n"
       ]
      }
     ],
     "prompt_number": 50
    },
    {
     "cell_type": "markdown",
     "metadata": {},
     "source": [
      "Our depth grid is upside down in the geographical sense - use the Numpy flipud() function to fix that."
     ]
    },
    {
     "cell_type": "code",
     "collapsed": false,
     "input": [
      "depths = np.flipud(depths)"
     ],
     "language": "python",
     "metadata": {},
     "outputs": [],
     "prompt_number": 51
    },
    {
     "cell_type": "code",
     "collapsed": false,
     "input": [
      "fig = plt.figure(figsize=(10,10))\n",
      "plt.imshow(depths,cmap='afmhot_r',interpolation='none');\n",
      "#plt.imshow(depths,cmap='jet_r',interpolation='none');\n",
      "plt.colorbar();\n",
      "plt.title('Slab grid using mean values');"
     ],
     "language": "python",
     "metadata": {},
     "outputs": [
      {
       "metadata": {},
       "output_type": "display_data",
       "png": "[encoded data removed]",
       "text": [
        "<matplotlib.figure.Figure at 0x10d47e410>"
       ]
      }
     ],
     "prompt_number": 55
    },
    {
     "cell_type": "code",
     "collapsed": false,
     "input": [],
     "language": "python",
     "metadata": {},
     "outputs": []
    }
   ],
   "metadata": {}
  }
 ]
}