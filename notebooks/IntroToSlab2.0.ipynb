{
 "metadata": {
  "name": "",
  "signature": "sha256:2bd1633b44c39366f798208fbe4a01d6bdf01744e09e6972d48074dcddf51828"
 },
 "nbformat": 3,
 "nbformat_minor": 0,
 "worksheets": [
  {
   "cells": [
    {
     "cell_type": "markdown",
     "metadata": {},
     "source": [
      "This notebook is a basic introduction to the functions available in the slab2.0 library.  To run this notebook you will need to install a couple of other packages:\n",
      " - *pip install git+git://github.com/usgs/libcomcat.git*\n",
      " - *pip install git+git://github.com/usgs/neicio.git*\n"
     ]
    },
    {
     "cell_type": "markdown",
     "metadata": {},
     "source": [
      "The cell \"magic\" below indicates to IPython that all plots should be rendered *inline* - that is, not in a separate window."
     ]
    },
    {
     "cell_type": "code",
     "collapsed": false,
     "input": [
      "%matplotlib inline"
     ],
     "language": "python",
     "metadata": {},
     "outputs": [],
     "prompt_number": 1
    },
    {
     "cell_type": "code",
     "collapsed": false,
     "input": [
      "#stdlib imports\n",
      "from datetime import datetime\n",
      "import urllib2\n",
      "import os.path\n",
      "\n",
      "#usgs imports\n",
      "from slab2.slabutils import getEventsInCircle\n",
      "from slab2.slabutils import getEventsInEllipse\n",
      "from slab2.slabutils import heading\n",
      "from libcomcat.comcat import getEventData,getTimeSegments\n",
      "from neicio.gmt import GMTGrid\n",
      "\n",
      "#third party imports\n",
      "import numpy as np\n",
      "import scipy.stats as stats\n",
      "import matplotlib.pyplot as plt\n",
      "from IPython.display import Image\n",
      "from scipy.io import netcdf\n",
      "import math"
     ],
     "language": "python",
     "metadata": {},
     "outputs": [],
     "prompt_number": 2
    },
    {
     "cell_type": "markdown",
     "metadata": {},
     "source": [
      "Create a grid coarsely replicating the Izu-Bonin slab grid:\n",
      "http://earthquake.usgs.gov/data/slab/images/izu_slab1.jpg"
     ]
    },
    {
     "cell_type": "code",
     "collapsed": false,
     "input": [
      "Image(url='http://earthquake.usgs.gov/data/slab/images/izu_slab1.jpg')"
     ],
     "language": "python",
     "metadata": {},
     "outputs": [
      {
       "html": [
        "<img src=\"http://earthquake.usgs.gov/data/slab/images/izu_slab1.jpg\"/>"
       ],
       "metadata": {},
       "output_type": "pyout",
       "prompt_number": 3,
       "text": [
        "<IPython.core.display.Image at 0x108556990>"
       ]
      }
     ],
     "prompt_number": 3
    },
    {
     "cell_type": "markdown",
     "metadata": {},
     "source": [
      "Go fetch this depth grid from the USGS web site:"
     ]
    },
    {
     "cell_type": "code",
     "collapsed": false,
     "input": [
      "url = 'http://earthquake.usgs.gov/data/slab/models/izu_slab1.0_clip.grd'\n",
      "fname = 'izu_slab1.0_clip.grd'\n",
      "if not os.path.isfile(fname):\n",
      "    fh = urllib2.urlopen(url)\n",
      "    data = fh.read()\n",
      "    fh.close()\n",
      "    f = open(fname,'wb')\n",
      "    f.write(data)\n",
      "    f.close()\n",
      "\n",
      "depgrid = GMTGrid(fname)\n",
      "xmin,xmax,ymin,ymax = depgrid.getRange()\n",
      "#create arrays of lat/lon values\n",
      "lons = np.arange(xmin,xmax,0.5)\n",
      "lats = np.arange(ymin,ymax,0.5)\n",
      "bounds = (lons.min(),lons.max(),lats.min(),lats.max())\n",
      "print bounds"
     ],
     "language": "python",
     "metadata": {},
     "outputs": [
      {
       "output_type": "stream",
       "stream": "stdout",
       "text": [
        "(129.0, 147.5, 11.0, 39.5)\n"
       ]
      }
     ],
     "prompt_number": 4
    },
    {
     "cell_type": "code",
     "collapsed": false,
     "input": [
      "url = 'http://earthquake.usgs.gov/data/slab/models/izu_slab1.0_strclip.grd'\n",
      "fname = 'izu_slab1.0_strclip.grd'\n",
      "if not os.path.isfile(fname):\n",
      "    fh = urllib2.urlopen(url)\n",
      "    data = fh.read()\n",
      "    fh.close()\n",
      "    f = open(fname,'wb')\n",
      "    f.write(data)\n",
      "    f.close()\n",
      "\n",
      "strgrid = GMTGrid(fname)\n",
      "\n",
      "url = 'http://earthquake.usgs.gov/data/slab/models/izu_slab1.0_dipclip.grd'\n",
      "fname = 'izu_slab1.0_dipclip.grd'\n",
      "if not os.path.isfile(fname):\n",
      "    fh = urllib2.urlopen(url)\n",
      "    data = fh.read()\n",
      "    fh.close()\n",
      "    f = open(fname,'wb')\n",
      "    f.write(data)\n",
      "    f.close()\n",
      "\n",
      "dipgrid = GMTGrid(fname)"
     ],
     "language": "python",
     "metadata": {},
     "outputs": [],
     "prompt_number": 5
    },
    {
     "cell_type": "markdown",
     "metadata": {},
     "source": [
      "Search ComCat for recent events inside the rectangle defined by the arrays above."
     ]
    },
    {
     "cell_type": "code",
     "collapsed": false,
     "input": [
      "starttime = datetime(2000,1,1)\n",
      "endtime = datetime.utcnow()\n",
      "magrange = (4.0,10)\n",
      "eventlist = getEventData(bounds = bounds,starttime = starttime,\n",
      "                         endtime = endtime,magrange=magrange)\n",
      "print '%i events inside Izu-Bonin slab region.' % len(eventlist)"
     ],
     "language": "python",
     "metadata": {},
     "outputs": [
      {
       "output_type": "stream",
       "stream": "stdout",
       "text": [
        "18271 events inside Izu-Bonin slab region.\n"
       ]
      }
     ],
     "prompt_number": 6
    },
    {
     "cell_type": "markdown",
     "metadata": {},
     "source": [
      "Create two depth grids, fill them with NaN values."
     ]
    },
    {
     "cell_type": "code",
     "collapsed": false,
     "input": [
      "nrows = len(lats)\n",
      "ncols = len(lons)\n",
      "depths = np.ones((nrows,ncols))*np.NaN\n",
      "hdepths = np.ones((nrows,ncols))*np.NaN\n",
      "samples = np.ones((nrows,ncols))*np.NaN\n",
      "print 'Output grids will have %i rows, %i columns' % (nrows,ncols)"
     ],
     "language": "python",
     "metadata": {},
     "outputs": [
      {
       "output_type": "stream",
       "stream": "stdout",
       "text": [
        "Output grids will have 58 rows, 38 columns\n"
       ]
      }
     ],
     "prompt_number": 7
    },
    {
     "cell_type": "markdown",
     "metadata": {},
     "source": [
      "One of our two grids will be filled with a filtered mean - below we are testing the assumption of normality.  The plots below look to be either normal or binomial depending on the location chosen."
     ]
    },
    {
     "cell_type": "code",
     "collapsed": false,
     "input": [
      "#choose a spot in the middle of the slab to search for events\n",
      "tlat = 29.0;tlon = 140.0 #pretty binomial\n",
      "#tlat = 36.0;tlon = 141.0 #fairly normal\n",
      "# Define radial search parameters\n",
      "radius=100\n",
      "# Define ellipsoid search parameters\n",
      "alen=radius\n",
      "blen=radius/5\n",
      "\n",
      "print 'Depth = ', depgrid.getValue(tlat,tlon)\n",
      "cstr = strgrid.getValue(tlat,tlon)\n",
      "print 'Strike = ', cstr\n",
      "print 'Dip = ', dipgrid.getValue(tlat,tlon)\n",
      "\n",
      "print 'Ellipse axes: a = ', alen, 'b = ', blen\n",
      "\n",
      "print 'Original Eventlist size = ', len(eventlist)\n",
      "elist = getEventsInCircle(tlat,tlon,radius,eventlist)\n",
      "print 'Elist size = ', len(elist)\n",
      "\n",
      "erta = math.sqrt(1-((math.pow(blen,2))/(math.pow(alen,2))))\n",
      "mdist = alen*erta\n",
      "#cstr2 = cstr+180\n",
      "if(mdist>0):\n",
      "    (rlat,rlon) = heading(tlat,tlon,alen,cstr)\n",
      "else:\n",
      "    rlat=tlat\n",
      "    rlon=tlon\n",
      "    \n",
      "print 'Ellipse Focus: ',rlat,rlon\n",
      "\n",
      "elist2 = getEventsInEllipse(rlat,rlon,cstr,alen,blen,elist)\n",
      "print 'Elist2 size = ', len(elist2)\n",
      "\n",
      "adepths = np.array([e['depth'] for e in elist2])\n",
      "mu, std = stats.norm.fit(adepths)\n",
      "hrange = (adepths.min(),adepths.max())\n",
      "\n",
      "fig,axeslist = plt.subplots(nrows=2,ncols=1)\n",
      "fig.set_size_inches(10,6)\n",
      "plt.sca(axeslist[0])\n",
      "ahist=plt.hist(adepths, bins=20, normed=True, alpha=0.6, color='c',range=hrange)\n",
      "xmin, xmax = plt.xlim()\n",
      "x = np.linspace(xmin, xmax, 100)\n",
      "p = stats.norm.pdf(x, mu, std)\n",
      "plt.plot(x, p, 'k', linewidth=2);\n",
      "title = \"Fit results: mu = %.2f,  std = %.2f\" % (mu, std)\n",
      "th=plt.title(title);\n",
      "xh=plt.xlabel('Depth (km)');\n",
      "yh=plt.ylabel('Density');\n",
      "axlim = plt.axis()\n",
      "xloc = (axlim[1] - axlim[0])/10.0\n",
      "yloc = axlim[3] - (axlim[3] - axlim[2])/10.0\n",
      "plt.text(xloc,yloc,'N = %i' % len(adepths));\n",
      "\n",
      "plt.sca(axeslist[1])\n",
      "qqdata = stats.probplot(adepths, dist=\"norm\",plot=plt,fit=False)\n",
      "xh=plt.xlabel('Standard Normal Quantiles')\n",
      "yh=plt.ylabel('Sorted Depth Values')\n",
      "fig=plt.gcf()\n",
      "fig.set_size_inches(8,8)\n",
      "\n",
      "fig.tight_layout()"
     ],
     "language": "python",
     "metadata": {},
     "outputs": [
      {
       "output_type": "stream",
       "stream": "stdout",
       "text": [
        "Depth =  -245.959\n",
        "Strike =  159.813\n",
        "Dip =  -64.969\n",
        "Ellipse axes: a =  100 b =  20\n",
        "Original Eventlist size =  18271\n",
        "Elist size = "
       ]
      },
      {
       "output_type": "stream",
       "stream": "stdout",
       "text": [
        " 147\n",
        "Ellipse Focus:  28.1554293783 140.352004461\n",
        "Elist2 size =  8\n"
       ]
      },
      {
       "metadata": {},
       "output_type": "display_data",
       "png": "[encoded data removed]",
       "text": [
        "<matplotlib.figure.Figure at 0x10fb5fb50>"
       ]
      }
     ],
     "prompt_number": 23
    },
    {
     "cell_type": "code",
     "collapsed": false,
     "input": [
      "#plot the points we found from the circle search\n",
      "fig = plt.figure(figsize=(6,6))\n",
      "elat = [e['lat'] for e in elist]\n",
      "elon = [e['lon'] for e in elist]\n",
      "plt.plot(elon,elat,'r.');\n",
      "plt.hold(True);\n",
      "plt.plot()\n",
      "\n",
      "#plot those found in ellipse\n",
      "elat2 = [e['lat'] for e in elist2]\n",
      "elon2 = [e['lon'] for e in elist2]\n",
      "plt.plot(elon2,elat2,'b.');\n",
      "\n",
      "plt.plot(tlon,tlat,'gx');\n",
      "plt.legend(['Circle','Ellipse','Center']); #don't know why this is double plotting symbols"
     ],
     "language": "python",
     "metadata": {},
     "outputs": [
      {
       "metadata": {},
       "output_type": "display_data",
       "png": "[encoded data removed]",
       "text": [
        "<matplotlib.figure.Figure at 0x10ffca850>"
       ]
      }
     ],
     "prompt_number": 24
    },
    {
     "cell_type": "code",
     "collapsed": false,
     "input": [
      "tstart = datetime.now()\n",
      "radius = 100\n",
      "for i in range(0,len(lats)):\n",
      "    for j in range(0,len(lons)):\n",
      "        elat = lats[i]\n",
      "        elon = lons[j]\n",
      "        elist = getEventsInCircle(elat,elon,radius,eventlist)\n",
      "        alldepths = np.array([e['depth'] for e in elist])\n",
      "        alldepths = alldepths[np.isfinite(alldepths)]\n",
      "        if len(alldepths):\n",
      "            depmean = np.nanmean(alldepths)\n",
      "            mu, std = stats.norm.fit(alldepths)\n",
      "            minmag = mu-std\n",
      "            maxmag = mu+std\n",
      "            filtdepths = alldepths[(alldepths >= minmag) & (alldepths <= maxmag)]\n",
      "            fdepmean = np.nanmean(filtdepths)\n",
      "        else:\n",
      "            depmean = np.NaN\n",
      "            fdepmean = np.NaN\n",
      "        depths[i,j] = depmean\n",
      "        hdepths[i,j] = fdepmean\n",
      "        samples[i,j] = len(alldepths)\n",
      "tend = datetime.now()\n",
      "print 'Creating mean depth grid for %i cells took %.1f seconds' % (nrows*ncols,(tend-tstart).seconds)"
     ],
     "language": "python",
     "metadata": {},
     "outputs": []
    },
    {
     "cell_type": "markdown",
     "metadata": {},
     "source": [
      "Our depth grid is upside down in the geographical sense - use the Numpy flipud() function to fix that."
     ]
    },
    {
     "cell_type": "code",
     "collapsed": false,
     "input": [
      "depths = np.flipud(depths)\n",
      "hdepths = np.flipud(hdepths)"
     ],
     "language": "python",
     "metadata": {},
     "outputs": []
    },
    {
     "cell_type": "code",
     "collapsed": false,
     "input": [
      "def getticks(lats,lons,ylocs,xlocs):\n",
      "    newxlabels = []\n",
      "    for loc in xlocs:\n",
      "        if loc < 0:\n",
      "            newxlabels.append('')\n",
      "            continue\n",
      "        if loc >= ncols:\n",
      "            newxlabels.append('')\n",
      "            continue\n",
      "        newxlabels.append('%.1f' % lons[int(loc)])\n",
      "    newylabels = []\n",
      "    rlats = lats[-1:0:-1]\n",
      "    for loc in ylocs:\n",
      "        if loc < 0:\n",
      "            newylabels.append('')\n",
      "            continue\n",
      "        if loc >= nrows:\n",
      "            newylabels.append('')\n",
      "            continue\n",
      "        newylabels.append('%.1f' % rlats[int(loc)])   \n",
      "    return (newylabels,newxlabels)"
     ],
     "language": "python",
     "metadata": {},
     "outputs": []
    },
    {
     "cell_type": "code",
     "collapsed": false,
     "input": [
      "dmin = min(np.nanmin(depths),np.nanmin(hdepths))\n",
      "dmax = max(np.nanmax(depths),np.nanmax(hdepths))\n",
      "print dmin,dmax\n",
      "cmap = 'Reds'\n",
      "shrink = 0.93\n",
      "fig,axeslist = plt.subplots(nrows=1,ncols=2)\n",
      "fig.set_size_inches(14, 10)\n",
      "plt.sca(axeslist[0])\n",
      "plt.imshow(depths,cmap=cmap,interpolation='none',vmin=dmin,vmax=dmax);\n",
      "plt.colorbar(shrink=shrink);\n",
      "xlocs,xlabels = plt.xticks();\n",
      "ylocs,ylabels = plt.yticks();\n",
      "xlabels,ylabels = getticks(lats,lons,ylocs,xlocs);\n",
      "axlim = plt.axis();\n",
      "plt.xticks(xlocs,xlabels);\n",
      "plt.yticks(ylocs,ylabels);\n",
      "axlim = plt.axis(axlim);\n",
      "plt.title('Depth from simple mean');\n",
      "\n",
      "plt.sca(axeslist[1])\n",
      "plt.imshow(hdepths,cmap=cmap,interpolation='none',vmin=dmin,vmax=dmax);\n",
      "plt.colorbar(shrink=shrink);\n",
      "xlocs,xlabels = plt.xticks();\n",
      "ylocs,ylabels = plt.yticks();\n",
      "xlabels,ylabels = getticks(lats,lons,ylocs,xlocs);\n",
      "axlim = plt.axis();\n",
      "plt.xticks(xlocs,xlabels);\n",
      "plt.yticks(ylocs,ylabels);\n",
      "axlim = plt.axis(axlim);\n",
      "plt.title('Depth from filtered mean');"
     ],
     "language": "python",
     "metadata": {},
     "outputs": []
    }
   ],
   "metadata": {}
  }
 ]
}